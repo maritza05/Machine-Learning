{
 "cells": [
  {
   "cell_type": "markdown",
   "metadata": {},
   "source": [
    "# Learning NumPy"
   ]
  },
  {
   "cell_type": "code",
   "execution_count": 4,
   "metadata": {
    "collapsed": false
   },
   "outputs": [
    {
     "data": {
      "text/plain": [
       "array([0, 1, 2, 3, 4, 5])"
      ]
     },
     "execution_count": 4,
     "metadata": {},
     "output_type": "execute_result"
    }
   ],
   "source": [
    "import numpy as np\n",
    "a = np.array([0, 1, 2, 3, 4, 5])\n",
    "a"
   ]
  },
  {
   "cell_type": "code",
   "execution_count": 5,
   "metadata": {
    "collapsed": false
   },
   "outputs": [
    {
     "data": {
      "text/plain": [
       "1"
      ]
     },
     "execution_count": 5,
     "metadata": {},
     "output_type": "execute_result"
    }
   ],
   "source": [
    "a.ndim"
   ]
  },
  {
   "cell_type": "code",
   "execution_count": 6,
   "metadata": {
    "collapsed": false
   },
   "outputs": [
    {
     "data": {
      "text/plain": [
       "(6,)"
      ]
     },
     "execution_count": 6,
     "metadata": {},
     "output_type": "execute_result"
    }
   ],
   "source": [
    "a.shape"
   ]
  },
  {
   "cell_type": "markdown",
   "metadata": {},
   "source": [
    "We just created an array like we would create a list in Python. However, the NumPy arrays have additional information about the shape. In this case, it is a one-dimensional array of six elements. "
   ]
  },
  {
   "cell_type": "markdown",
   "metadata": {},
   "source": [
    "We can now transform this array to a two-dimensional matrix:"
   ]
  },
  {
   "cell_type": "code",
   "execution_count": 7,
   "metadata": {
    "collapsed": false
   },
   "outputs": [
    {
     "data": {
      "text/plain": [
       "array([[0, 1],\n",
       "       [2, 3],\n",
       "       [4, 5]])"
      ]
     },
     "execution_count": 7,
     "metadata": {},
     "output_type": "execute_result"
    }
   ],
   "source": [
    "b = a.reshape((3, 2))\n",
    "b"
   ]
  },
  {
   "cell_type": "code",
   "execution_count": 8,
   "metadata": {
    "collapsed": false
   },
   "outputs": [
    {
     "data": {
      "text/plain": [
       "2"
      ]
     },
     "execution_count": 8,
     "metadata": {},
     "output_type": "execute_result"
    }
   ],
   "source": [
    "b.ndim"
   ]
  },
  {
   "cell_type": "code",
   "execution_count": 9,
   "metadata": {
    "collapsed": false
   },
   "outputs": [
    {
     "data": {
      "text/plain": [
       "(3, 2)"
      ]
     },
     "execution_count": 9,
     "metadata": {},
     "output_type": "execute_result"
    }
   ],
   "source": [
    "b.shape"
   ]
  },
  {
   "cell_type": "markdown",
   "metadata": {},
   "source": [
    "We have a trouble if we wan't to make a real copy, this shows how much the NumPy package is optimized."
   ]
  },
  {
   "cell_type": "code",
   "execution_count": 10,
   "metadata": {
    "collapsed": false
   },
   "outputs": [
    {
     "data": {
      "text/plain": [
       "array([[ 0,  1],\n",
       "       [77,  3],\n",
       "       [ 4,  5]])"
      ]
     },
     "execution_count": 10,
     "metadata": {},
     "output_type": "execute_result"
    }
   ],
   "source": [
    "b[1][0] = 77\n",
    "b"
   ]
  },
  {
   "cell_type": "markdown",
   "metadata": {},
   "source": [
    "But now if we see the values of a:"
   ]
  },
  {
   "cell_type": "code",
   "execution_count": 11,
   "metadata": {
    "collapsed": false
   },
   "outputs": [
    {
     "data": {
      "text/plain": [
       "array([ 0,  1, 77,  3,  4,  5])"
      ]
     },
     "execution_count": 11,
     "metadata": {},
     "output_type": "execute_result"
    }
   ],
   "source": [
    "a"
   ]
  },
  {
   "cell_type": "markdown",
   "metadata": {},
   "source": [
    "We see immediately the same change reflected in \"a\" as well. If we need a true copy we can perform:"
   ]
  },
  {
   "cell_type": "code",
   "execution_count": 12,
   "metadata": {
    "collapsed": false
   },
   "outputs": [
    {
     "data": {
      "text/plain": [
       "array([[ 0,  1],\n",
       "       [77,  3],\n",
       "       [ 4,  5]])"
      ]
     },
     "execution_count": 12,
     "metadata": {},
     "output_type": "execute_result"
    }
   ],
   "source": [
    "c = a.reshape((3, 2)).copy()\n",
    "c"
   ]
  },
  {
   "cell_type": "code",
   "execution_count": 13,
   "metadata": {
    "collapsed": false
   },
   "outputs": [
    {
     "data": {
      "text/plain": [
       "array([ 0,  1, 77,  3,  4,  5])"
      ]
     },
     "execution_count": 13,
     "metadata": {},
     "output_type": "execute_result"
    }
   ],
   "source": [
    "c[0][0] = -99\n",
    "a"
   ]
  },
  {
   "cell_type": "code",
   "execution_count": 14,
   "metadata": {
    "collapsed": false
   },
   "outputs": [
    {
     "data": {
      "text/plain": [
       "array([[-99,   1],\n",
       "       [ 77,   3],\n",
       "       [  4,   5]])"
      ]
     },
     "execution_count": 14,
     "metadata": {},
     "output_type": "execute_result"
    }
   ],
   "source": [
    "c"
   ]
  },
  {
   "cell_type": "markdown",
   "metadata": {},
   "source": [
    "Another big advantage of NumPy arrays is that operations are propagated to the individual elements. "
   ]
  },
  {
   "cell_type": "code",
   "execution_count": 15,
   "metadata": {
    "collapsed": false
   },
   "outputs": [
    {
     "data": {
      "text/plain": [
       "array([ 2,  4,  6,  8, 10])"
      ]
     },
     "execution_count": 15,
     "metadata": {},
     "output_type": "execute_result"
    }
   ],
   "source": [
    "d = np.array([1,2,3,4,5])\n",
    "d*2"
   ]
  },
  {
   "cell_type": "markdown",
   "metadata": {},
   "source": [
    "Similarly, for other operations:"
   ]
  },
  {
   "cell_type": "code",
   "execution_count": 16,
   "metadata": {
    "collapsed": false
   },
   "outputs": [
    {
     "data": {
      "text/plain": [
       "array([ 1,  4,  9, 16, 25])"
      ]
     },
     "execution_count": 16,
     "metadata": {},
     "output_type": "execute_result"
    }
   ],
   "source": [
    "d**2"
   ]
  },
  {
   "cell_type": "markdown",
   "metadata": {},
   "source": [
    "What it's not the case with Python lists. "
   ]
  },
  {
   "cell_type": "code",
   "execution_count": 17,
   "metadata": {
    "collapsed": false
   },
   "outputs": [
    {
     "data": {
      "text/plain": [
       "[1, 2, 3, 4, 5, 1, 2, 3, 4, 5]"
      ]
     },
     "execution_count": 17,
     "metadata": {},
     "output_type": "execute_result"
    }
   ],
   "source": [
    "[1,2,3,4,5]*2"
   ]
  },
  {
   "cell_type": "code",
   "execution_count": 18,
   "metadata": {
    "collapsed": false
   },
   "outputs": [
    {
     "ename": "TypeError",
     "evalue": "unsupported operand type(s) for ** or pow(): 'list' and 'int'",
     "output_type": "error",
     "traceback": [
      "\u001b[1;31m---------------------------------------------------------------------------\u001b[0m",
      "\u001b[1;31mTypeError\u001b[0m                                 Traceback (most recent call last)",
      "\u001b[1;32m<ipython-input-18-c54f0681399f>\u001b[0m in \u001b[0;36m<module>\u001b[1;34m()\u001b[0m\n\u001b[1;32m----> 1\u001b[1;33m \u001b[1;33m[\u001b[0m\u001b[1;36m1\u001b[0m\u001b[1;33m,\u001b[0m\u001b[1;36m2\u001b[0m\u001b[1;33m,\u001b[0m\u001b[1;36m3\u001b[0m\u001b[1;33m,\u001b[0m\u001b[1;36m4\u001b[0m\u001b[1;33m,\u001b[0m\u001b[1;36m5\u001b[0m\u001b[1;33m]\u001b[0m\u001b[1;33m**\u001b[0m\u001b[1;36m2\u001b[0m\u001b[1;33m\u001b[0m\u001b[0m\n\u001b[0m",
      "\u001b[1;31mTypeError\u001b[0m: unsupported operand type(s) for ** or pow(): 'list' and 'int'"
     ]
    }
   ],
   "source": [
    "[1,2,3,4,5]**2"
   ]
  },
  {
   "cell_type": "markdown",
   "metadata": {},
   "source": [
    "When using NumPy arrays, we sacrafice the agility Python lists offer. Simple operations such as adding or removing are bit complex for NumPy arrays. But we can choose the right tool for the task."
   ]
  },
  {
   "cell_type": "markdown",
   "metadata": {},
   "source": [
    "## Indexing\n",
    "Numpy allows you to use the arrays themselves as indices by performing:"
   ]
  },
  {
   "cell_type": "code",
   "execution_count": null,
   "metadata": {
    "collapsed": false
   },
   "outputs": [],
   "source": [
    "a[np.array([2,3,4])]"
   ]
  },
  {
   "cell_type": "markdown",
   "metadata": {},
   "source": [
    "And with the fact that conditions are also propagated to individual elements, we gain a very convenient way to access our data:"
   ]
  },
  {
   "cell_type": "code",
   "execution_count": 19,
   "metadata": {
    "collapsed": false
   },
   "outputs": [
    {
     "data": {
      "text/plain": [
       "array([False, False,  True, False, False,  True], dtype=bool)"
      ]
     },
     "execution_count": 19,
     "metadata": {},
     "output_type": "execute_result"
    }
   ],
   "source": [
    "a>4"
   ]
  },
  {
   "cell_type": "code",
   "execution_count": 20,
   "metadata": {
    "collapsed": false
   },
   "outputs": [
    {
     "data": {
      "text/plain": [
       "array([77,  5])"
      ]
     },
     "execution_count": 20,
     "metadata": {},
     "output_type": "execute_result"
    }
   ],
   "source": [
    "a[a>4]"
   ]
  },
  {
   "cell_type": "markdown",
   "metadata": {},
   "source": [
    "We can use this feature to trim outliers:"
   ]
  },
  {
   "cell_type": "code",
   "execution_count": null,
   "metadata": {
    "collapsed": false
   },
   "outputs": [],
   "source": [
    "a[a>4] = 4\n",
    "a"
   ]
  },
  {
   "cell_type": "markdown",
   "metadata": {},
   "source": [
    "This is a common use case, so there is a special clip function for it, clipping values at both ends of an interval with one function call:"
   ]
  },
  {
   "cell_type": "code",
   "execution_count": null,
   "metadata": {
    "collapsed": false
   },
   "outputs": [],
   "source": [
    "a.clip(0, 4)"
   ]
  },
  {
   "cell_type": "markdown",
   "metadata": {},
   "source": [
    "## Handling nonexisting values\n",
    "The power of NumPy's indexing capabilities comes in handy when preprocessing data that we have just read in from a text file. Most likely, that will contain invalid values that we will mark as not being a real number using numpy.NAN"
   ]
  },
  {
   "cell_type": "code",
   "execution_count": 21,
   "metadata": {
    "collapsed": false
   },
   "outputs": [
    {
     "data": {
      "text/plain": [
       "array([False, False,  True, False, False], dtype=bool)"
      ]
     },
     "execution_count": 21,
     "metadata": {},
     "output_type": "execute_result"
    }
   ],
   "source": [
    "c = np.array([1,2,np.NAN,3,4]) # fake data\n",
    "np.isnan(c)"
   ]
  },
  {
   "cell_type": "code",
   "execution_count": null,
   "metadata": {
    "collapsed": false
   },
   "outputs": [],
   "source": [
    "c[~np.isnan(c)]"
   ]
  },
  {
   "cell_type": "code",
   "execution_count": null,
   "metadata": {
    "collapsed": false
   },
   "outputs": [],
   "source": [
    "np.mean(c[~np.isnan(c)])"
   ]
  },
  {
   "cell_type": "markdown",
   "metadata": {},
   "source": [
    "## Comparing the runtime\n",
    "Let's compare the runtime behavior of NumPy compared with normal Python lists. In the following code, we will calculate the sum of all squared numbers from 1 to 1000 and see how much time it will take."
   ]
  },
  {
   "cell_type": "code",
   "execution_count": 22,
   "metadata": {
    "collapsed": false
   },
   "outputs": [
    {
     "name": "stdout",
     "output_type": "stream",
     "text": [
      "Normal Python: 3.576253 sec\n",
      "Naive NumPy: 4.167665 sec\n",
      "Good NumPy: 0.069332 sec\n"
     ]
    }
   ],
   "source": [
    "import timeit\n",
    "normal_py_sec = timeit.timeit('sum(x*x for x in range(1000))', number=10000)\n",
    "naive_np_sec = timeit.timeit('sum(na*na)', setup=\"import numpy as np; na=np.arange(1000)\",\n",
    "                             number=10000)\n",
    "good_np_sec = timeit.timeit('na.dot(na)', setup=\"import numpy as np; na=np.arange(1000)\",\n",
    "                           number=10000)\n",
    "\n",
    "print(\"Normal Python: %f sec\" % normal_py_sec)\n",
    "print(\"Naive NumPy: %f sec\" %naive_np_sec)\n",
    "print(\"Good NumPy: %f sec\" % good_np_sec)"
   ]
  },
  {
   "cell_type": "markdown",
   "metadata": {},
   "source": [
    "There are some interesting observations:\n",
    "* Using NumPy as data storage takes more time, which is surprising since we believe it must be much faster as it is written as a C extension. But the explanation is on the access to individual elements from Python itself is rather costly. \n",
    "* The dot() function does exactly the same thing"
   ]
  },
  {
   "cell_type": "markdown",
   "metadata": {},
   "source": [
    "However we no longer have the incredible flexibility of Python lists, wich can hold basically anything. NumPy arrays always have only one data type."
   ]
  },
  {
   "cell_type": "code",
   "execution_count": 23,
   "metadata": {
    "collapsed": false
   },
   "outputs": [
    {
     "data": {
      "text/plain": [
       "dtype('int64')"
      ]
     },
     "execution_count": 23,
     "metadata": {},
     "output_type": "execute_result"
    }
   ],
   "source": [
    "a = np.array([1,2,3])\n",
    "a.dtype"
   ]
  },
  {
   "cell_type": "markdown",
   "metadata": {},
   "source": [
    "If we try to use elements of different types, shuch as the ones shown in the following code, NumPy will do its best to coerce them to be the most reasonable common data type:"
   ]
  },
  {
   "cell_type": "code",
   "execution_count": 24,
   "metadata": {
    "collapsed": false
   },
   "outputs": [
    {
     "data": {
      "text/plain": [
       "array(['1', 'stringy'], \n",
       "      dtype='<U21')"
      ]
     },
     "execution_count": 24,
     "metadata": {},
     "output_type": "execute_result"
    }
   ],
   "source": [
    "np.array([1, \"stringy\"])"
   ]
  },
  {
   "cell_type": "code",
   "execution_count": 25,
   "metadata": {
    "collapsed": false
   },
   "outputs": [
    {
     "data": {
      "text/plain": [
       "array([1, 'stringy', {1, 2, 3}], dtype=object)"
      ]
     },
     "execution_count": 25,
     "metadata": {},
     "output_type": "execute_result"
    }
   ],
   "source": [
    "np.array([1, \"stringy\", set([1,2,3])])"
   ]
  },
  {
   "cell_type": "markdown",
   "metadata": {},
   "source": [
    "# Learning SciPy\n",
    "On top of the efficient data structures of NumPy, SciPy offers a magnitude of algorithms working on those arrays. Whatever numerical heavy algorithm you take from current books, on numerical recipes, most likely you will find support for them in SciPy on one way or the other. For convenience, the complete namespace of NumPy is also accessible via SciPy. You can check this easily comparing the function references of any base function, such as:"
   ]
  },
  {
   "cell_type": "code",
   "execution_count": null,
   "metadata": {
    "collapsed": false
   },
   "outputs": [],
   "source": [
    "import scipy, numpy\n",
    "scipy.version.full_version"
   ]
  },
  {
   "cell_type": "code",
   "execution_count": null,
   "metadata": {
    "collapsed": false
   },
   "outputs": [],
   "source": [
    "scipy.dot is numpy.dot"
   ]
  },
  {
   "cell_type": "markdown",
   "metadata": {},
   "source": [
    "# Our first (tiny) application of machine learning\n",
    "Let's get our hands dirty and take a look at our hypothetical web start-up, MLaaS,\n",
    "which sells the service of providing machine learning algorithms via HTTP. With\n",
    "increasing success of our company, the demand for better infrastructure increases\n",
    "to serve all incoming web requests successfully. We don't want to allocate too\n",
    "many resources as that would be too costly. On the other side, we will lose money,\n",
    "if we have not reserved enough resources to serve all incoming requests. Now,\n",
    "the question is, when will we hit the limit of our current infrastructure, which we\n",
    "estimated to be at 100,000 requests per hour. We would like to know in advance\n",
    "when we have to request additional servers in the cloud to serve all the incoming\n",
    "requests successfully without paying for unused ones."
   ]
  },
  {
   "cell_type": "markdown",
   "metadata": {},
   "source": [
    "## Reading in the data\n",
    "We have collected the web stats for the last month and aggregated them in ch01/\n",
    "data/web_traffic.tsv ( .tsv because it contains tab-separated values). They are\n",
    "stored as the number of hits per hour. Each line contains the hour consecutively and\n",
    "the number of web hits in that hour.\n",
    "Using gentfromtxt(), we can easily read in the data using the following code:"
   ]
  },
  {
   "cell_type": "code",
   "execution_count": 1,
   "metadata": {
    "collapsed": false
   },
   "outputs": [],
   "source": [
    "import scipy as sp\n",
    "data = sp.genfromtxt(\"data/web_traffic.tsv\", delimiter=\"\\t\")"
   ]
  },
  {
   "cell_type": "markdown",
   "metadata": {
    "collapsed": true
   },
   "source": [
    "We have to specify tab as the delimiter so that columns are correctly determined. A quick check shows that we have correctly read in the data:"
   ]
  },
  {
   "cell_type": "code",
   "execution_count": 2,
   "metadata": {
    "collapsed": false
   },
   "outputs": [
    {
     "name": "stdout",
     "output_type": "stream",
     "text": [
      "[[  1.00000000e+00   2.27200000e+03]\n",
      " [  2.00000000e+00              nan]\n",
      " [  3.00000000e+00   1.38600000e+03]\n",
      " [  4.00000000e+00   1.36500000e+03]\n",
      " [  5.00000000e+00   1.48800000e+03]\n",
      " [  6.00000000e+00   1.33700000e+03]\n",
      " [  7.00000000e+00   1.88300000e+03]\n",
      " [  8.00000000e+00   2.28300000e+03]\n",
      " [  9.00000000e+00   1.33500000e+03]\n",
      " [  1.00000000e+01   1.02500000e+03]]\n"
     ]
    }
   ],
   "source": [
    "print(data[:10])"
   ]
  },
  {
   "cell_type": "code",
   "execution_count": 3,
   "metadata": {
    "collapsed": false
   },
   "outputs": [
    {
     "name": "stdout",
     "output_type": "stream",
     "text": [
      "(743, 2)\n"
     ]
    }
   ],
   "source": [
    "print(data.shape)"
   ]
  },
  {
   "cell_type": "markdown",
   "metadata": {},
   "source": [
    "As you can see, we have 743 data points with two dimensions."
   ]
  },
  {
   "cell_type": "markdown",
   "metadata": {},
   "source": [
    "## Preprocessing and cleaning the data\n",
    "It is more convenient for SciPy to separate the dimensions into two vectors, each\n",
    "of size 743. The first vector, x , will contain the hours, and the other, y , will contain\n",
    "the Web hits in that particular hour. This splitting is done using the special index\n",
    "notation of SciPy, by which we can choose the columns individually:"
   ]
  },
  {
   "cell_type": "code",
   "execution_count": 4,
   "metadata": {
    "collapsed": true
   },
   "outputs": [],
   "source": [
    "x = data[:,0]\n",
    "y = data[:,1]"
   ]
  },
  {
   "cell_type": "markdown",
   "metadata": {},
   "source": [
    "Let's check how many hours contain invalid\n",
    "data, by running the following code:"
   ]
  },
  {
   "cell_type": "code",
   "execution_count": 5,
   "metadata": {
    "collapsed": false
   },
   "outputs": [
    {
     "data": {
      "text/plain": [
       "8"
      ]
     },
     "execution_count": 5,
     "metadata": {},
     "output_type": "execute_result"
    }
   ],
   "source": [
    "sp.sum(sp.isnan(y))"
   ]
  },
  {
   "cell_type": "markdown",
   "metadata": {},
   "source": [
    "As you can see, we are missing only 8 out of 743 entries, so we can afford to remove\n",
    "them."
   ]
  },
  {
   "cell_type": "code",
   "execution_count": 6,
   "metadata": {
    "collapsed": true
   },
   "outputs": [],
   "source": [
    "x = x[~sp.isnan(y)]\n",
    "y = y[~sp.isnan(y)]"
   ]
  },
  {
   "cell_type": "markdown",
   "metadata": {},
   "source": [
    "We can plot our data using matplotlib which contains the pyplot package, wich tries to mimic MATLAB's interface, which is very convenient and easy to use as you can see in the following code:"
   ]
  },
  {
   "cell_type": "code",
   "execution_count": 8,
   "metadata": {
    "collapsed": true
   },
   "outputs": [],
   "source": [
    "%matplotlib inline"
   ]
  },
  {
   "cell_type": "code",
   "execution_count": 9,
   "metadata": {
    "collapsed": false
   },
   "outputs": [
    {
     "data": {
      "image/png": "[encoded data removed]",
      "text/plain": [
       "<matplotlib.figure.Figure at 0x7fc8e423d908>"
      ]
     },
     "metadata": {},
     "output_type": "display_data"
    }
   ],
   "source": [
    "import matplotlib.pyplot as plt\n",
    "# plot the (x,y) points with dots of size 10\n",
    "plt.scatter(x,y, s=10)\n",
    "plt.title(\"Web traffic over the last month\")\n",
    "plt.xlabel(\"Time\")\n",
    "plt.ylabel(\"Hits/hour\")\n",
    "plt.xticks([w*7*24 for w in range(10)],\n",
    "          ['week %i' % w for w in range(10)])\n",
    "plt.autoscale(tight=True)\n",
    "# draw a slightly opaque, dashed grid\n",
    "plt.grid(True, linestyle='-', color='0.75')\n",
    "plt.show()"
   ]
  },
  {
   "cell_type": "markdown",
   "metadata": {},
   "source": [
    "## Choosing the right model and learning algorithm\n",
    "Now that we have a first impression of the data, we return to the initial question:\n",
    "How long will our server handle the incoming web traffic? To answer this we have\n",
    "to do the following:\n",
    "1. Find the real model behind the noisy data points.\n",
    "2. Following this, use the model to extrapolate into the future to find the point in time where our infrastructure has to be extended."
   ]
  },
  {
   "cell_type": "markdown",
   "metadata": {},
   "source": [
    "## Before building our first model...\n",
    "When we talk about models, you can think of them as simplified theoretical\n",
    "approximations of complex reality. As such there is always some inferiority\n",
    "involved, also called the approximation error. This error will guide us in choosing\n",
    "the right model among the myriad of choices we have. And this error will be\n",
    "calculated as the squared distance of the model's prediction to the real data; for\n",
    "example, for a learned model function f , the error is calculated as follows:"
   ]
  },
  {
   "cell_type": "code",
   "execution_count": 10,
   "metadata": {
    "collapsed": true
   },
   "outputs": [],
   "source": [
    "def error(f, x, y):\n",
    "    return sp.sum((f(x)-y)**2)"
   ]
  },
  {
   "cell_type": "markdown",
   "metadata": {},
   "source": [
    "The vectors x and y contain the web stats data that we have extracted earlier. It is\n",
    "the beauty of SciPy's vectorized functions that we exploit here with f(x) . The trained\n",
    "model is assumed to take a vector and return the results again as a vector of the same\n",
    "size so that we can use it to calculate the difference to y ."
   ]
  },
  {
   "cell_type": "markdown",
   "metadata": {},
   "source": [
    "## Starting with a simple straight line"
   ]
  },
  {
   "cell_type": "markdown",
   "metadata": {},
   "source": [
    "Let's assume for a second that the underlying model is a straight line. Then the\n",
    "challenge is how to best put that line into the chart so that it results in the smallest\n",
    "approximation error. SciPy's polyfit() function does exactly that. Given data x and\n",
    "y and the desired order of the polynomial (a straight line has order 1), it finds the\n",
    "model function that minimizes the error function defined earlier:"
   ]
  },
  {
   "cell_type": "code",
   "execution_count": 12,
   "metadata": {
    "collapsed": true
   },
   "outputs": [],
   "source": [
    "fp1, residuals, rank, sv, rcond = sp.polyfit(x, y, 1, full=True)"
   ]
  },
  {
   "cell_type": "markdown",
   "metadata": {},
   "source": [
    "The polyfit() function returns the parameters of the fitted model function, fp1 .\n",
    "And by setting full=True , we also get additional background information on the\n",
    "fitting process. Of this, only residuals are of interest, which is exactly the error of\n",
    "the approximation:"
   ]
  },
  {
   "cell_type": "code",
   "execution_count": 13,
   "metadata": {
    "collapsed": false
   },
   "outputs": [
    {
     "name": "stdout",
     "output_type": "stream",
     "text": [
      "Model parameters: [   2.59619213  989.02487106]\n"
     ]
    }
   ],
   "source": [
    "print(\"Model parameters: %s\" % fp1)"
   ]
  },
  {
   "cell_type": "code",
   "execution_count": 14,
   "metadata": {
    "collapsed": false
   },
   "outputs": [
    {
     "name": "stdout",
     "output_type": "stream",
     "text": [
      "[  3.17389767e+08]\n"
     ]
    }
   ],
   "source": [
    "print(residuals)"
   ]
  },
  {
   "cell_type": "markdown",
   "metadata": {},
   "source": [
    "This means the best straight line fit is the following function\n",
    "f(x) = 2.59619213 * x + 989.02487106\n",
    "We then use poly1d() to create a model function from the model parameters:"
   ]
  },
  {
   "cell_type": "code",
   "execution_count": 15,
   "metadata": {
    "collapsed": false
   },
   "outputs": [
    {
     "name": "stdout",
     "output_type": "stream",
     "text": [
      "317389767.34\n"
     ]
    }
   ],
   "source": [
    "f1 = sp.poly1d(fp1)\n",
    "print(error(f1, x, y))"
   ]
  },
  {
   "cell_type": "markdown",
   "metadata": {},
   "source": [
    "We have used full=True to retrieve more details on the fitting process. Normally,\n",
    "we would not need it, in which case only the model parameters would be returned.\n",
    "We can now use f1() to plot our first trained model. In addition to the preceding\n",
    "plotting instructions, we simply add the following code:"
   ]
  },
  {
   "cell_type": "code",
   "execution_count": 17,
   "metadata": {
    "collapsed": false
   },
   "outputs": [
    {
     "data": {
      "image/png": "[encoded data removed]",
      "text/plain": [
       "<matplotlib.figure.Figure at 0x7fc8e4072438>"
      ]
     },
     "metadata": {},
     "output_type": "display_data"
    }
   ],
   "source": [
    "import matplotlib.pyplot as plt\n",
    "# plot the (x,y) points with dots of size 10\n",
    "plt.scatter(x,y, s=10)\n",
    "plt.title(\"Web traffic over the last month\")\n",
    "plt.xlabel(\"Time\")\n",
    "plt.ylabel(\"Hits/hour\")\n",
    "plt.xticks([w*7*24 for w in range(10)],\n",
    "          ['week %i' % w for w in range(10)])\n",
    "plt.autoscale(tight=True)\n",
    "# draw a slightly opaque, dashed grid\n",
    "plt.grid(True, linestyle='-', color='0.75')\n",
    "fx = sp.linspace(0,x[-1], 1000) # generate values for plotting\n",
    "plt.plot(fx, f1(fx), linewidth=4)\n",
    "plt.legend([\"d=%i\" % f1.order], loc=\"upper left\")\n",
    "plt.show()"
   ]
  },
  {
   "cell_type": "markdown",
   "metadata": {},
   "source": [
    "It seems like the first 4 weeks are not that far off, although we clearly see that there is\n",
    "something wrong with our initial assumption that the underlying model is a straight\n",
    "line. The absolute value of the error is seldom of use in isolation. However, when\n",
    "comparing two competing models, we can use their errors to judge which one of\n",
    "them is better. Although our first model clearly is not the one we would use, it serves\n",
    "a very important purpose in the workflow. We will use it as our baseline until we\n",
    "find a better one. Whatever model we come up with in the future, we will compare it\n",
    "against the current baseline."
   ]
  },
  {
   "cell_type": "markdown",
   "metadata": {},
   "source": [
    "## Towards some advanced stuff\n",
    "Let's now fit a more complex model, a polynomial of degree 2, to see whether it\n",
    "better understands our data:"
   ]
  },
  {
   "cell_type": "code",
   "execution_count": 22,
   "metadata": {
    "collapsed": false
   },
   "outputs": [
    {
     "name": "stdout",
     "output_type": "stream",
     "text": [
      "[  1.05322215e-02  -5.26545650e+00   1.97476082e+03]\n"
     ]
    }
   ],
   "source": [
    "f2p = sp.polyfit(x, y, 2)\n",
    "print(f2p)\n"
   ]
  },
  {
   "cell_type": "code",
   "execution_count": 23,
   "metadata": {
    "collapsed": false
   },
   "outputs": [
    {
     "name": "stdout",
     "output_type": "stream",
     "text": [
      "179983507.878\n"
     ]
    }
   ],
   "source": [
    "f2 = sp.poly1d(f2p)\n",
    "print(error(f2, x, y))"
   ]
  },
  {
   "cell_type": "code",
   "execution_count": 24,
   "metadata": {
    "collapsed": false
   },
   "outputs": [
    {
     "data": {
      "image/png": "[encoded data removed]",
      "text/plain": [
       "<matplotlib.figure.Figure at 0x7fc8e403ed68>"
      ]
     },
     "metadata": {},
     "output_type": "display_data"
    }
   ],
   "source": [
    "import matplotlib.pyplot as plt\n",
    "# plot the (x,y) points with dots of size 10\n",
    "plt.scatter(x,y, s=10)\n",
    "plt.title(\"Web traffic over the last month\")\n",
    "plt.xlabel(\"Time\")\n",
    "plt.ylabel(\"Hits/hour\")\n",
    "plt.xticks([w*7*24 for w in range(10)],\n",
    "          ['week %i' % w for w in range(10)])\n",
    "plt.autoscale(tight=True)\n",
    "# draw a slightly opaque, dashed grid\n",
    "plt.grid(True, linestyle='-', color='0.75')\n",
    "fx = sp.linspace(0,x[-1], 1000) # generate values for plotting\n",
    "plt.plot(fx, f2(fx), linewidth=4)\n",
    "plt.legend([\"d=%i\" % f2.order], loc=\"upper left\")\n",
    "plt.show()"
   ]
  },
  {
   "cell_type": "markdown",
   "metadata": {},
   "source": [
    "The error is 179,983,507.878, which is almost half the error of the straight line model.\n",
    "This is good but unfortunately this comes with a price: We now have a more complex\n",
    "function, meaning that we have one parameter more to tune inside polyfit() . The\n",
    "fitted polynomial is as follows:"
   ]
  },
  {
   "cell_type": "markdown",
   "metadata": {},
   "source": [
    " f(x) = 0.0105322215 * x**2 - 5.26545650 * x + 1974.76082\n",
    " "
   ]
  },
  {
   "cell_type": "markdown",
   "metadata": {},
   "source": [
    "So, if more complexity gives better results, why not increase the complexity even\n",
    "more? Let's try it for degrees 3, 10, and 100."
   ]
  },
  {
   "cell_type": "code",
   "execution_count": 26,
   "metadata": {
    "collapsed": false
   },
   "outputs": [
    {
     "name": "stdout",
     "output_type": "stream",
     "text": [
      "[  3.04960132e-05  -2.35893797e-02   4.94226019e+00   1.33328797e+03]\n"
     ]
    }
   ],
   "source": [
    "f3p = sp.polyfit(x, y, 3)\n",
    "print(f3p)\n",
    "f3 = sp.poly1d(f3p)"
   ]
  },
  {
   "cell_type": "code",
   "execution_count": 27,
   "metadata": {
    "collapsed": false
   },
   "outputs": [
    {
     "name": "stdout",
     "output_type": "stream",
     "text": [
      "[ -3.73981969e-22   1.36473757e-18  -2.14294406e-15   1.89884971e-12\n",
      "  -1.04570108e-09   3.70867731e-07  -8.45604588e-05   1.19167041e-02\n",
      "  -9.41618606e-01   3.33703840e+01   1.26421204e+03]\n"
     ]
    }
   ],
   "source": [
    "f10p = sp.polyfit(x, y, 10)\n",
    "print(f10p)\n",
    "f10 = sp.poly1d(f10p)"
   ]
  },
  {
   "cell_type": "code",
   "execution_count": 28,
   "metadata": {
    "collapsed": false
   },
   "outputs": [
    {
     "name": "stdout",
     "output_type": "stream",
     "text": [
      "[  0.00000000e+000  -0.00000000e+000  -0.00000000e+000  -0.00000000e+000\n",
      "  -0.00000000e+000  -0.00000000e+000   0.00000000e+000   0.00000000e+000\n",
      "  -0.00000000e+000   0.00000000e+000  -0.00000000e+000  -0.00000000e+000\n",
      "  -0.00000000e+000  -0.00000000e+000  -0.00000000e+000   0.00000000e+000\n",
      "  -0.00000000e+000   0.00000000e+000  -0.00000000e+000   0.00000000e+000\n",
      "  -0.00000000e+000   0.00000000e+000   0.00000000e+000  -0.00000000e+000\n",
      "  -0.00000000e+000   0.00000000e+000   0.00000000e+000  -0.00000000e+000\n",
      "  -0.00000000e+000   0.00000000e+000   0.00000000e+000   0.00000000e+000\n",
      "   0.00000000e+000  -0.00000000e+000  -0.00000000e+000  -0.00000000e+000\n",
      "  -0.00000000e+000  -0.00000000e+000  -0.00000000e+000  -0.00000000e+000\n",
      "  -0.00000000e+000  -0.00000000e+000  -0.00000000e+000  -0.00000000e+000\n",
      "  -0.00000000e+000  -0.00000000e+000  -0.00000000e+000  -6.72740876e-140\n",
      "   1.19703798e-136  -4.65838939e-135  -4.66478146e-131  -2.54255458e-128\n",
      "   2.25979033e-126   1.39011706e-122   1.16111764e-119   4.32262633e-117\n",
      "  -1.50770926e-114  -3.76694215e-111  -3.20557516e-108  -1.48597721e-105\n",
      "   6.29719556e-104   8.53732566e-100   9.11092175e-097   5.56845510e-094\n",
      "   1.31765614e-091  -1.52922768e-088  -2.41398538e-085  -1.84982446e-082\n",
      "  -7.30058353e-080   2.08114356e-077   6.26306192e-074   5.61009623e-071\n",
      "   2.52758861e-068  -4.42286339e-066  -1.85458057e-062  -1.62949199e-059\n",
      "  -5.76699975e-057   3.54958580e-054   6.50750760e-051   3.79781759e-048\n",
      "  -4.37090813e-046  -2.48053204e-042  -1.57873814e-039   3.45947815e-037\n",
      "   1.09217162e-033   3.34448398e-031  -4.93788221e-028  -2.97835053e-025\n",
      "   2.64844532e-022   1.18818661e-019  -2.02241320e-016   1.03621595e-013\n",
      "  -2.90538359e-011   4.79734849e-009  -4.21040977e-007   5.98084278e-006\n",
      "   2.59216071e-003  -2.60190998e-001   1.03506874e+001  -1.60103203e+002\n",
      "   2.14971971e+003]\n"
     ]
    },
    {
     "name": "stderr",
     "output_type": "stream",
     "text": [
      "/home/maritza/Documentos/tesis_resources/machine_learning/ENV/lib/python3.4/site-packages/numpy/lib/polynomial.py:587: RuntimeWarning: overflow encountered in multiply\n",
      "  scale = NX.sqrt((lhs*lhs).sum(axis=0))\n",
      "/home/maritza/Documentos/tesis_resources/machine_learning/ENV/lib/python3.4/site-packages/numpy/lib/polynomial.py:595: RankWarning: Polyfit may be poorly conditioned\n",
      "  warnings.warn(msg, RankWarning)\n"
     ]
    }
   ],
   "source": [
    "f100p = sp.polyfit(x, y, 100)\n",
    "print(f100p)\n",
    "f100 = sp.poly1d(f100p)"
   ]
  },
  {
   "cell_type": "code",
   "execution_count": 37,
   "metadata": {
    "collapsed": false
   },
   "outputs": [
    {
     "data": {
      "image/png": "[encoded data removed]",
      "text/plain": [
       "<matplotlib.figure.Figure at 0x7fc8e42744a8>"
      ]
     },
     "metadata": {},
     "output_type": "display_data"
    }
   ],
   "source": [
    "import matplotlib.pyplot as plt\n",
    "# plot the (x,y) points with dots of size 10\n",
    "plt.scatter(x,y, s=10)\n",
    "plt.title(\"Web traffic over the last month\")\n",
    "plt.xlabel(\"Time\")\n",
    "plt.ylabel(\"Hits/hour\")\n",
    "plt.xticks([w*7*24 for w in range(10)],\n",
    "          ['week %i' % w for w in range(10)])\n",
    "plt.autoscale(tight=True)\n",
    "# draw a slightly opaque, dashed grid\n",
    "plt.grid(True, linestyle='-', color='0.75')\n",
    "fx = sp.linspace(0,x[-1], 1000) # generate values for plotting\n",
    "# plotting with a 1 order\n",
    "plt.plot(fx, f1(fx), linewidth=4, label=\"d1=%i\" % f1.order)\n",
    "# plotting with a 2 order\n",
    "plt.plot(fx, f2(fx), linewidth=4, label=\"d2=%i\" % f2.order)\n",
    "\n",
    "# plotting with a 3 order\n",
    "plt.plot(fx, f3(fx), linewidth=4, label=\"d3=%i\" % f3.order)\n",
    "\n",
    "# plotting with a 10 order\n",
    "plt.plot(fx, f10(fx), linewidth=4, label=\"d10=%i\" % f10.order)\n",
    "\n",
    "# plotting with a 100 order\n",
    "plt.plot(fx, f100(fx), linewidth=4, label=\"d100=%i\" % f100.order)\n",
    "plt.legend(loc='upper left')\n",
    "plt.show()"
   ]
  },
  {
   "cell_type": "markdown",
   "metadata": {},
   "source": [
    "Interestingly, when you have plotted your graph that d100=53 this means that polyfit cannot determine a good fit with 100 degrees. Instead, it figured that 53 must be good enough. It seems like the curves capture and better the fitted data the more complex they get.\n",
    "And also, the errors seem to tell the same story:"
   ]
  },
  {
   "cell_type": "code",
   "execution_count": 39,
   "metadata": {
    "collapsed": false
   },
   "outputs": [
    {
     "name": "stdout",
     "output_type": "stream",
     "text": [
      "Error d=1: %f 317389767.34\n",
      "Error d=2: %f 179983507.878\n",
      "Error d=3: %f 139350144.032\n",
      "Error d=10: %f 121942326.364\n",
      "Error d=100: %f 109452401.18\n"
     ]
    }
   ],
   "source": [
    "print(\"Error d=1: %f\", error(f1, x, y))\n",
    "print(\"Error d=2: %f\", error(f2, x, y))\n",
    "print(\"Error d=3: %f\", error(f3, x, y))\n",
    "print(\"Error d=10: %f\", error(f10, x, y))\n",
    "print(\"Error d=100: %f\", error(f100, x, y))"
   ]
  },
  {
   "cell_type": "markdown",
   "metadata": {},
   "source": [
    "However, taking a closer look at the fitted curves, we start to wonder whether they also\n",
    "capture the true process that generated that data. Framed differently, do our models\n",
    "correctly represent the underlying mass behavior of customers visiting our website?\n",
    "Looking at the polynomial of degree 10 and 53, we see wildly oscillating behavior. It\n",
    "seems that the models are fitted too much to the data. So much that it is now capturing\n",
    "not only the underlying process but also the noise. This is called overfitting."
   ]
  },
  {
   "cell_type": "markdown",
   "metadata": {},
   "source": [
    "So we have the following choices:\n",
    "* Choosing one of the fitted polynomial models.\n",
    "* Switching to another more complex model class.\n",
    "* Thinking differently about the data and start again."
   ]
  },
  {
   "cell_type": "markdown",
   "metadata": {},
   "source": [
    "Out of the five fitted models, the first order model clearly is too simple, and the\n",
    "models of order 10 and 53 are clearly overfitting. Only the second and third order\n",
    "models seem to somehow match the data. However, if we extrapolate them at both\n",
    "borders, we see them going berserk.\n",
    "Switching to a more complex class seems also not to be the right way to go. What\n",
    "arguments would back which class? At this point, we realize that we probably have\n",
    "not fully understood our data."
   ]
  },
  {
   "cell_type": "markdown",
   "metadata": {},
   "source": [
    "## Stepping back to go forward – another look at our data\n",
    "So, we step back and take another look at the data. It seems that there is an inflection point between weeks 3 and 4. So let's separate the data and train two lines using week 3.5 as a separation point:"
   ]
  },
  {
   "cell_type": "code",
   "execution_count": 49,
   "metadata": {
    "collapsed": false
   },
   "outputs": [
    {
     "name": "stdout",
     "output_type": "stream",
     "text": [
      "Error inflection=132246076.860267\n"
     ]
    }
   ],
   "source": [
    "inflection = 3.5*7*25 #calculate the inflection point in hours\n",
    "int_inflection = round(inflection)\n",
    "xa = x[:int_inflection] # data before the inflection point\n",
    "ya = y[:int_inflection]\n",
    "xb = x[int_inflection:] # data after\n",
    "yb = y[int_inflection:]\n",
    "\n",
    "fa = sp.poly1d(sp.polyfit(xa, ya, 1))\n",
    "fb = sp.poly1d(sp.polyfit(xb, yb, 1))\n",
    "\n",
    "fa_error = error(fa, xa, ya)\n",
    "fb_error = error(fb, xb, yb)\n",
    "print(\"Error inflection=%f\" %(fa_error + fb_error))"
   ]
  },
  {
   "cell_type": "code",
   "execution_count": 53,
   "metadata": {
    "collapsed": false
   },
   "outputs": [
    {
     "data": {
      "image/png": "[encoded data removed]",
      "text/plain": [
       "<matplotlib.figure.Figure at 0x7fc8e3f92588>"
      ]
     },
     "metadata": {},
     "output_type": "display_data"
    }
   ],
   "source": [
    "import matplotlib.pyplot as plt\n",
    "# plot the (x,y) points with dots of size 10\n",
    "plt.scatter(x,y, s=10)\n",
    "plt.title(\"Web traffic over the last month\")\n",
    "plt.xlabel(\"Time\")\n",
    "plt.ylabel(\"Hits/hour\")\n",
    "plt.xticks([w*7*24 for w in range(10)],\n",
    "          ['week %i' % w for w in range(10)])\n",
    "plt.autoscale(tight=True)\n",
    "# draw a slightly opaque, dashed grid\n",
    "plt.grid(True, linestyle='-', color='0.75')\n",
    "fx = sp.linspace(0,x[-1], 1000) # generate values for plotting\n",
    "# plotting with a 1 order\n",
    "plt.plot(fx, fa(fx), linewidth=4, label=\"d1=%i\" % fa.order)\n",
    "# plotting with a 2 order\n",
    "plt.plot(fx, fb(fx), linewidth=4, label=\"d1=%i\" % fb.order)\n",
    "\n",
    "plt.legend(loc='upper left')\n",
    "plt.show()"
   ]
  },
  {
   "cell_type": "markdown",
   "metadata": {},
   "source": [
    "Clearly, the combination of these two lines seems to be a much better fit to the data\n",
    "than anything we have modeled before. But still, the combined error is higher than\n",
    "the higher order polynomials. Can we trust the error at the end?"
   ]
  },
  {
   "cell_type": "markdown",
   "metadata": {},
   "source": [
    "Asked differently, why do we trust the straight line fitted only at the last week of our\n",
    "data more than any of the more complex models? It is because we assume that it will\n",
    "capture future data better. If we plot the models into the future, we see how right we\n",
    "are (d=1 is again our initial straight line)."
   ]
  },
  {
   "cell_type": "markdown",
   "metadata": {},
   "source": [
    "## Training and testing\n",
    "If we only had some data from the future that we could use to measure our models\n",
    "against, then we should be able to judge our model choice only on the resulting\n",
    "approximation error.\n",
    "Although we cannot look into the future, we can and should simulate a similar effect\n",
    "by holding out a part of our data. Let's remove, for instance, a certain percentage of\n",
    "the data and train on the remaining one. Then we used the held-out data to calculate\n",
    "the error. As the model has been trained not knowing the held-out data, we should\n",
    "get a more realistic picture of how the model will behave in the future.\n",
    "The test errors for the models trained only on the time after inflection point now\n",
    "show a completely different picture:"
   ]
  },
  {
   "cell_type": "code",
   "execution_count": 64,
   "metadata": {
    "collapsed": false
   },
   "outputs": [
    {
     "name": "stdout",
     "output_type": "stream",
     "text": [
      "Test errors for only the time after inflection point\n",
      "Error d=1: 3946251.726017\n",
      "Error d=2: 3873979.021186\n",
      "Error d=3: 3883897.384542\n",
      "Error d=10: 4038394.035316\n",
      "Error d=53: 4437453.980905\n"
     ]
    },
    {
     "name": "stderr",
     "output_type": "stream",
     "text": [
      "/usr/local/lib/python3.4/dist-packages/ipykernel/__main__.py:4: VisibleDeprecationWarning: using a non-integer number instead of an integer will result in an error in the future\n",
      "/usr/local/lib/python3.4/dist-packages/ipykernel/__main__.py:5: VisibleDeprecationWarning: using a non-integer number instead of an integer will result in an error in the future\n",
      "/home/maritza/Documentos/tesis_resources/machine_learning/ENV/lib/python3.4/site-packages/numpy/lib/polynomial.py:595: RankWarning: Polyfit may be poorly conditioned\n",
      "  warnings.warn(msg, RankWarning)\n",
      "/home/maritza/Documentos/tesis_resources/machine_learning/ENV/lib/python3.4/site-packages/numpy/lib/polynomial.py:595: RankWarning: Polyfit may be poorly conditioned\n",
      "  warnings.warn(msg, RankWarning)\n",
      "/home/maritza/Documentos/tesis_resources/machine_learning/ENV/lib/python3.4/site-packages/numpy/lib/polynomial.py:595: RankWarning: Polyfit may be poorly conditioned\n",
      "  warnings.warn(msg, RankWarning)\n",
      "/home/maritza/Documentos/tesis_resources/machine_learning/ENV/lib/python3.4/site-packages/numpy/lib/polynomial.py:595: RankWarning: Polyfit may be poorly conditioned\n",
      "  warnings.warn(msg, RankWarning)\n"
     ]
    }
   ],
   "source": [
    "inflection = 3.5*7*25 #calculate the inflection point in hours\n",
    "int_inflection = inflection\n",
    "\n",
    "xb = x[int_inflection:] # data after\n",
    "yb = y[int_inflection:]\n",
    "\n",
    "fb1 = sp.poly1d(sp.polyfit(xb, yb, 1))\n",
    "fb2 = sp.poly1d(sp.polyfit(xb, yb, 2))\n",
    "fb3 = sp.poly1d(sp.polyfit(xb, yb, 3))\n",
    "fb10 = sp.poly1d(sp.polyfit(xb, yb, 10))\n",
    "fb53 = sp.poly1d(sp.polyfit(xb, yb, 53))\n",
    "\n",
    "fb1_error = error(fb1, xb, yb)\n",
    "fb2_error = error(fb2, xb, yb)\n",
    "fb3_error = error(fb3, xb, yb)\n",
    "fb10_error = error(fb10, xb, yb)\n",
    "fb53_error = error(fb53, xb, yb)\n",
    "\n",
    "frac = 0.3\n",
    "split_idx = int(frac * len(xb))\n",
    "shuffled = sp.random.permutation(list(range(len(xb))))\n",
    "test = sorted(shuffled[:split_idx])\n",
    "train = sorted(shuffled[split_idx:])\n",
    "fbt1 = sp.poly1d(sp.polyfit(xb[train], yb[train], 1))\n",
    "fbt2 = sp.poly1d(sp.polyfit(xb[train], yb[train], 2))\n",
    "fbt3 = sp.poly1d(sp.polyfit(xb[train], yb[train], 3))\n",
    "fbt10 = sp.poly1d(sp.polyfit(xb[train], yb[train], 10))\n",
    "fbt100 = sp.poly1d(sp.polyfit(xb[train], yb[train], 53))\n",
    "\n",
    "print(\"Test errors for only the time after inflection point\")\n",
    "for f in [fbt1, fbt2, fbt3, fbt10, fbt100]:\n",
    "    print(\"Error d=%i: %f\" % (f.order, error(f, xb[test], yb[test])))"
   ]
  },
  {
   "cell_type": "markdown",
   "metadata": {},
   "source": [
    "It seems that we finally have a clear winner: The model with degree 2 has the lowest\n",
    "test error, which is the error when measured using data that the model did not see\n",
    "during training. And this gives us hope that we won't get bad surprises when future\n",
    "data arrives"
   ]
  },
  {
   "cell_type": "markdown",
   "metadata": {},
   "source": [
    "## Answering our initial question\n",
    "Finally we have arrived at a model which we think represents the underlying\n",
    "process best; it is now a simple task of finding out when our infrastructure will\n",
    "reach 100,000 requests per hour. We have to calculate when our model function\n",
    "reaches the value 100,000.\n",
    "Having a polynomial of degree 2, we could simply compute the inverse of the\n",
    "function and calculate its value at 100,000. Of course, we would like to have an\n",
    "approach that is applicable to any model function easily.\n",
    "This can be done by subtracting 100,000 from the polynomial, which results in\n",
    "another polynomial, and finding its root. SciPy's optimize module has the function\n",
    "fsolve that achieves this, when providing an initial starting position with parameter\n",
    "x0 . As every entry in our input data file corresponds to one hour, and we have 743 of\n",
    "them, we set the starting position to some value after that. Let fbt2 be the winning\n",
    "polynomial of degree 2."
   ]
  },
  {
   "cell_type": "code",
   "execution_count": 65,
   "metadata": {
    "collapsed": false
   },
   "outputs": [
    {
     "name": "stdout",
     "output_type": "stream",
     "text": [
      "fbt2(x) = \n",
      "         2\n",
      "0.07935 x - 84.72 x + 2.42e+04\n"
     ]
    }
   ],
   "source": [
    "fbt2 = sp.poly1d(sp.polyfit(xb[train], yb[train], 2))\n",
    "print(\"fbt2(x) = \\n%s\" %fbt2)"
   ]
  },
  {
   "cell_type": "code",
   "execution_count": 66,
   "metadata": {
    "collapsed": false
   },
   "outputs": [
    {
     "name": "stdout",
     "output_type": "stream",
     "text": [
      "fbt2(x)-100,000 = \n",
      "         2\n",
      "0.07935 x - 84.72 x - 7.58e+04\n"
     ]
    }
   ],
   "source": [
    "print(\"fbt2(x)-100,000 = \\n%s\" %(fbt2-100000))"
   ]
  },
  {
   "cell_type": "code",
   "execution_count": 67,
   "metadata": {
    "collapsed": false
   },
   "outputs": [
    {
     "name": "stdout",
     "output_type": "stream",
     "text": [
      "100,000 hits/hour expected at week 9.806430\n"
     ]
    }
   ],
   "source": [
    "from scipy.optimize import fsolve\n",
    "reached_max = fsolve(fbt2-100000, x0=800)/(7*24)\n",
    "print(\"100,000 hits/hour expected at week %f\" % reached_max[0])"
   ]
  },
  {
   "cell_type": "markdown",
   "metadata": {},
   "source": [
    "so our model tells\n",
    "us that, given the current user behavior and traction of our start-up, it will\n",
    "take another month until we have reached our capacity threshold."
   ]
  },
  {
   "cell_type": "code",
   "execution_count": null,
   "metadata": {
    "collapsed": true
   },
   "outputs": [],
   "source": []
  }
 ],
 "metadata": {
  "kernelspec": {
   "display_name": "Python 3",
   "language": "python",
   "name": "python3"
  },
  "language_info": {
   "codemirror_mode": {
    "name": "ipython",
    "version": 3
   },
   "file_extension": ".py",
   "mimetype": "text/x-python",
   "name": "python",
   "nbconvert_exporter": "python",
   "pygments_lexer": "ipython3",
   "version": "3.4.3"
  }
 },
 "nbformat": 4,
 "nbformat_minor": 0
}
